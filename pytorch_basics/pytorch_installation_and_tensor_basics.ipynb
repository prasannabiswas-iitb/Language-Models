{
 "cells": [
  {
   "cell_type": "markdown",
   "id": "45edea6b-871c-4317-80bc-e1a4a9616974",
   "metadata": {},
   "source": [
    "# PyTorch Installation and Tensor Basics"
   ]
  },
  {
   "cell_type": "markdown",
   "id": "89f46221-d015-4279-beea-aa7fae6611ae",
   "metadata": {},
   "source": [
    "### create python virtual environment\n",
    "python -m venv env_pytorch\n",
    "\n",
    "### activate\n",
    "Linux: env_pytorch/bin/activate\n",
    "Windows: env_pytorch\\Scripts\\activate\n",
    "\n",
    "### install pytorch and numpy\n",
    "pip install numpy\n",
    "pip install torch torchvision torchaudio --index-url https://download.pytorch.org/whl/cu118"
   ]
  },
  {
   "cell_type": "code",
   "execution_count": 1,
   "id": "7a070271-b68d-4be2-8602-21109c916c3a",
   "metadata": {},
   "outputs": [],
   "source": [
    "import torch"
   ]
  },
  {
   "cell_type": "code",
   "execution_count": 3,
   "id": "5fca53e2-38c9-46b5-8973-bd4f0ac46efd",
   "metadata": {},
   "outputs": [
    {
     "data": {
      "text/plain": [
       "'2.1.0+cu118'"
      ]
     },
     "execution_count": 3,
     "metadata": {},
     "output_type": "execute_result"
    }
   ],
   "source": [
    "torch.__version__"
   ]
  },
  {
   "cell_type": "code",
   "execution_count": 29,
   "id": "c01095bb-c146-46f4-b4ec-8361d9847e3d",
   "metadata": {},
   "outputs": [],
   "source": [
    "torch.cuda.is_available()\n",
    "\n",
    "# if you have GPU and cuda installed\n",
    "if torch.cuda.is_available():\n",
    "    device = torch.device(\"cuda\")\n",
    "    # to create a gpu tensor\n",
    "    ## with device argument\n",
    "    x = torch.ones(5, device=device)\n",
    "    ## to() function\n",
    "    y = torch.ones(5)\n",
    "    y = y.to(device)\n",
    "    # if we do any operation\n",
    "    z = x + y\n",
    "    # the computation happens in GPU."
   ]
  },
  {
   "cell_type": "markdown",
   "id": "456497db-0f4d-45d1-9b22-f6e4e0078a3d",
   "metadata": {},
   "source": [
    "## Tensor Basics"
   ]
  },
  {
   "cell_type": "code",
   "execution_count": 6,
   "id": "57e53df9-940c-4155-9ea9-2b4d9548ee02",
   "metadata": {},
   "outputs": [
    {
     "name": "stdout",
     "output_type": "stream",
     "text": [
      "tensor([0.])\n",
      "tensor([0., 0., 0.])\n",
      "tensor([[9.4239e-02, 1.5751e-42, 0.0000e+00],\n",
      "        [0.0000e+00, 0.0000e+00, 0.0000e+00]])\n",
      "tensor([[[9.4727e-02, 1.5751e-42, 0.0000e+00],\n",
      "         [0.0000e+00, 0.0000e+00, 0.0000e+00]],\n",
      "\n",
      "        [[0.0000e+00, 0.0000e+00, 0.0000e+00],\n",
      "         [0.0000e+00, 0.0000e+00, 0.0000e+00]]])\n"
     ]
    }
   ],
   "source": [
    "# Create un-initialised tensor\n",
    "x = torch.empty(1) # more like scalar\n",
    "x1D = torch.empty(3) # more like 1D array\n",
    "x2D = torch.empty(2,3) # like 2D array\n",
    "x3D = torch.empty(2,2,3) # like 3D array....and so on\n",
    "\n",
    "print(x)\n",
    "print(x1D)\n",
    "print(x2D)\n",
    "print(x3D)"
   ]
  },
  {
   "cell_type": "code",
   "execution_count": 7,
   "id": "10076675-bcef-4f5d-a7ee-78df2860c68e",
   "metadata": {},
   "outputs": [
    {
     "name": "stdout",
     "output_type": "stream",
     "text": [
      "tensor([[0.1088, 0.1940],\n",
      "        [0.2970, 0.9193]])\n",
      "tensor([[0., 0.],\n",
      "        [0., 0.]])\n",
      "tensor([[1., 1.],\n",
      "        [1., 1.]])\n"
     ]
    }
   ],
   "source": [
    "# Create tensors with some values\n",
    "\n",
    "## with random values\n",
    "x = torch.rand(2,2)\n",
    "print(x)\n",
    "\n",
    "## with zeros\n",
    "x = torch.zeros(2,2)\n",
    "print(x)\n",
    "\n",
    "## with ones\n",
    "x = torch.ones(2,2)\n",
    "print(x)"
   ]
  },
  {
   "cell_type": "code",
   "execution_count": 12,
   "id": "bd4e3042-b7ff-49d9-8436-ec3cd246eee4",
   "metadata": {},
   "outputs": [
    {
     "name": "stdout",
     "output_type": "stream",
     "text": [
      "torch.float32\n",
      "tensor([[1, 1],\n",
      "        [1, 1]], dtype=torch.int32) -- torch.int32\n",
      "tensor([[1., 1.],\n",
      "        [1., 1.]], dtype=torch.float64) -- torch.float64\n",
      "tensor([[1., 1.],\n",
      "        [1., 1.]], dtype=torch.float16) -- torch.float16\n",
      "tensor([[1, 1],\n",
      "        [1, 1]]) -- torch.int64\n"
     ]
    }
   ],
   "source": [
    "# Tensor data-types\n",
    "\n",
    "## look at data types\n",
    "x = torch.ones(2,2)\n",
    "print(x.dtype)\n",
    "\n",
    "## Assign data-types\n",
    "x = torch.ones(2,2, dtype=torch.int)\n",
    "print(x,\"--\",x.dtype)\n",
    "\n",
    "x = torch.ones(2,2, dtype=torch.double)\n",
    "print(x,\"--\",x.dtype)\n",
    "\n",
    "x = torch.ones(2,2, dtype=torch.float16)\n",
    "print(x,\"--\",x.dtype)\n",
    "\n",
    "# change data-type using \"to()\"\n",
    "x = x.to(torch.int64)\n",
    "print(x,\"--\",x.dtype)"
   ]
  },
  {
   "cell_type": "code",
   "execution_count": 13,
   "id": "26c5ba84-863d-4300-81e0-ff4e03476dc8",
   "metadata": {},
   "outputs": [
    {
     "name": "stdout",
     "output_type": "stream",
     "text": [
      "torch.Size([2, 2])\n",
      "tensor([2.5000, 0.1000]) torch.Size([2]) torch.float32\n"
     ]
    }
   ],
   "source": [
    "# Tensor sizes\n",
    "x = torch.ones(2,2)\n",
    "print(x.size())\n",
    "\n",
    "# Create a tensor\n",
    "x = torch.tensor([2.5, 0.1])\n",
    "print(x, x.size(), x.dtype)"
   ]
  },
  {
   "cell_type": "markdown",
   "id": "4ca804b4-724e-4a5d-851f-c51720a2be80",
   "metadata": {},
   "source": [
    "## Basic Tensor Operations"
   ]
  },
  {
   "cell_type": "markdown",
   "id": "2b7064a6-bc48-4125-b2d9-a6d3573eff97",
   "metadata": {},
   "source": [
    "### Multiple ways of element-wise operations"
   ]
  },
  {
   "cell_type": "code",
   "execution_count": 17,
   "id": "e6de4c50-6e32-42e6-9573-318c94e53dea",
   "metadata": {},
   "outputs": [
    {
     "name": "stdout",
     "output_type": "stream",
     "text": [
      "tensor([[0.3757, 0.9275],\n",
      "        [0.9583, 1.2475]])\n",
      "tensor([[0.3757, 0.9275],\n",
      "        [0.9583, 1.2475]])\n",
      "tensor([[0.3757, 0.9275],\n",
      "        [0.9583, 1.2475]])\n",
      "------------------------------\n",
      "tensor([[-0.2522, -0.4288],\n",
      "        [-0.1580, -0.8694]])\n",
      "tensor([[-0.2522, -0.4288],\n",
      "        [-0.1580, -0.8694]])\n",
      "tensor([[-0.2522, -0.4288],\n",
      "        [-0.1580, -0.8694]])\n",
      "------------------------------\n",
      "tensor([[-0.0948, -0.3977],\n",
      "        [-0.1514, -1.0846]])\n",
      "tensor([[-0.0948, -0.3977],\n",
      "        [-0.1514, -1.0846]])\n",
      "tensor([[-0.0948, -0.3977],\n",
      "        [-0.1514, -1.0846]])\n",
      "------------------------------\n",
      "tensor([[2.6614, 1.0782],\n",
      "        [1.0435, 0.8016]])\n",
      "tensor([[2.6614, 1.0782],\n",
      "        [1.0435, 0.8016]])\n",
      "tensor([[2.6614, 1.0782],\n",
      "        [1.0435, 0.8016]])\n"
     ]
    }
   ],
   "source": [
    "x = torch.rand(2,2)\n",
    "y = torch.rand(2,2)\n",
    "\n",
    "# Element-wise operations\n",
    "\n",
    "## Add\n",
    "z1 = x + y\n",
    "z2 = torch.add(x,y)\n",
    "print(z1)\n",
    "print(z2)\n",
    "\n",
    "### inplace add operation (operation with underscore is an inplace operation in pytorch)\n",
    "y.add_(x)\n",
    "print(y)\n",
    "print(\"-\"*30)\n",
    "\n",
    "## Sub\n",
    "z1 = x - y\n",
    "z2 = torch.sub(x,y)\n",
    "print(z1)\n",
    "print(z2)\n",
    "\n",
    "### inplace add operation (operation with underscore is an inplace operation in pytorch)\n",
    "x.sub_(y)\n",
    "print(x)\n",
    "print(\"-\"*30)\n",
    "\n",
    "## Mul\n",
    "z1 = x * y\n",
    "z2 = torch.mul(x,y)\n",
    "print(z1)\n",
    "print(z2)\n",
    "\n",
    "### inplace add operation (operation with underscore is an inplace operation in pytorch)\n",
    "y.mul_(x)\n",
    "print(y)\n",
    "print(\"-\"*30)\n",
    "\n",
    "## Div\n",
    "z1 = x / y\n",
    "z2 = torch.div(x,y)\n",
    "print(z1)\n",
    "print(z2)\n",
    "\n",
    "### inplace add operation (operation with underscore is an inplace operation in pytorch)\n",
    "x.div_(y)\n",
    "print(x)"
   ]
  },
  {
   "cell_type": "markdown",
   "id": "6de097a9-73be-4445-ad1b-163351a1f1ac",
   "metadata": {},
   "source": [
    "### Slicing"
   ]
  },
  {
   "cell_type": "code",
   "execution_count": 21,
   "id": "0867baa2-b5cb-44b5-8a61-0ecbdf071f72",
   "metadata": {},
   "outputs": [
    {
     "name": "stdout",
     "output_type": "stream",
     "text": [
      "tensor([[0.3840, 0.2553, 0.8853],\n",
      "        [0.7225, 0.9412, 0.1848],\n",
      "        [0.7920, 0.8748, 0.5713],\n",
      "        [0.5624, 0.1805, 0.3166],\n",
      "        [0.0273, 0.0707, 0.4880]])\n",
      "tensor([0.3840, 0.7225, 0.7920, 0.5624, 0.0273])\n",
      "tensor([0.7225, 0.9412, 0.1848])\n",
      "tensor(0.9412)\n",
      "0.9412060379981995  --  <class 'float'>\n"
     ]
    }
   ],
   "source": [
    "x = torch.rand(5,3)\n",
    "print(x)\n",
    "print(x[:, 0]) # print first column\n",
    "print(x[1, :]) # print second row\n",
    "print(x[1, 1]) # print one value tensor\n",
    "#if tensor has only one value, .item() can print that scalar value\n",
    "print(x[1, 1].item(),\" -- \", type(x[1, 1].item()))"
   ]
  },
  {
   "cell_type": "markdown",
   "id": "d2c04ca3-d706-45f0-bec2-cb3514f349f6",
   "metadata": {},
   "source": [
    "### Reshape"
   ]
  },
  {
   "cell_type": "code",
   "execution_count": 23,
   "id": "0a6c5fc5-ba2a-4bd9-ac37-8da4b99c10b7",
   "metadata": {},
   "outputs": [
    {
     "name": "stdout",
     "output_type": "stream",
     "text": [
      "tensor([[0.4978, 0.9954, 0.6430, 0.3816],\n",
      "        [0.8911, 0.4160, 0.2265, 0.9103],\n",
      "        [0.8410, 0.1239, 0.9142, 0.1414],\n",
      "        [0.4923, 0.3160, 0.6626, 0.5412]])\n",
      "tensor([0.4978, 0.9954, 0.6430, 0.3816, 0.8911, 0.4160, 0.2265, 0.9103, 0.8410,\n",
      "        0.1239, 0.9142, 0.1414, 0.4923, 0.3160, 0.6626, 0.5412])\n",
      "tensor([[0.4978, 0.9954, 0.6430, 0.3816, 0.8911, 0.4160, 0.2265, 0.9103],\n",
      "        [0.8410, 0.1239, 0.9142, 0.1414, 0.4923, 0.3160, 0.6626, 0.5412]]) torch.Size([2, 8])\n"
     ]
    }
   ],
   "source": [
    "x = torch.rand(4, 4)\n",
    "print(x)\n",
    "\n",
    "# .view() reshapes the tensor\n",
    "## make it 1-D\n",
    "y = x.view(16)\n",
    "print(y)\n",
    "\n",
    "## just mention the last index it automatically calculates the first\n",
    "y = x.view(-1, 8)\n",
    "print(y, y.size())"
   ]
  },
  {
   "cell_type": "markdown",
   "id": "42d16b16-23f2-41d0-85e9-3621af65e77e",
   "metadata": {},
   "source": [
    "## Numpy to torch Tensor and vice-versa "
   ]
  },
  {
   "cell_type": "code",
   "execution_count": 24,
   "id": "45cd0996-2dba-4d87-bf1f-4a53bb459c21",
   "metadata": {},
   "outputs": [],
   "source": [
    "import numpy as np"
   ]
  },
  {
   "cell_type": "code",
   "execution_count": 28,
   "id": "a544f6cc-c76f-47bb-9cc3-c8f9c2ef88c1",
   "metadata": {},
   "outputs": [
    {
     "name": "stdout",
     "output_type": "stream",
     "text": [
      "tensor([1., 1., 1., 1., 1.]) <class 'torch.Tensor'>\n",
      "[1. 1. 1. 1. 1.] <class 'numpy.ndarray'>\n",
      "tensor([2., 2., 2., 2., 2.]) <class 'torch.Tensor'>\n",
      "[2. 2. 2. 2. 2.] <class 'numpy.ndarray'>\n",
      "------------------------------\n",
      "[1. 1. 1. 1. 1.] <class 'numpy.ndarray'>\n",
      "tensor([1., 1., 1., 1., 1.], dtype=torch.float64) <class 'torch.Tensor'>\n",
      "[2. 2. 2. 2. 2.]\n",
      "tensor([2., 2., 2., 2., 2.], dtype=torch.float64)\n"
     ]
    }
   ],
   "source": [
    "# Convert torch tensor to numpy\n",
    "# Numpy can only handle cpu tensors.\n",
    "\n",
    "a = torch.ones(5)\n",
    "print(a, type(a))\n",
    "\n",
    "b = a.numpy()\n",
    "print(b, type(b))\n",
    "\n",
    "## .numpy() is not a deep copy, the tensor and the\n",
    "## corresponding numpy array points to same memory location.\n",
    "## i.e if we change something in a, same change is reflected in b\n",
    "\n",
    "a.add_(1)\n",
    "print(a, type(a))\n",
    "print(b, type(b))\n",
    "\n",
    "print(\"-\"*30)\n",
    "\n",
    "# Convert numpy to torch tensor\n",
    "\n",
    "a = np.ones(5)\n",
    "print(a, type(a))\n",
    "\n",
    "b = torch.from_numpy(a)\n",
    "print(b, type(b))\n",
    "\n",
    "## torch.from_numpy() is not a deep copy, the tensor and the\n",
    "## corresponding numpy array points to same memory location.\n",
    "## i.e if we change something in a, same change is reflected in b\n",
    "\n",
    "a += 1\n",
    "print(a)\n",
    "print(b)"
   ]
  },
  {
   "cell_type": "code",
   "execution_count": null,
   "id": "29ebecb1-5063-4fb8-aff2-6880e455d96f",
   "metadata": {},
   "outputs": [],
   "source": []
  }
 ],
 "metadata": {
  "kernelspec": {
   "display_name": "Python 3 (ipykernel)",
   "language": "python",
   "name": "python3"
  },
  "language_info": {
   "codemirror_mode": {
    "name": "ipython",
    "version": 3
   },
   "file_extension": ".py",
   "mimetype": "text/x-python",
   "name": "python",
   "nbconvert_exporter": "python",
   "pygments_lexer": "ipython3",
   "version": "3.11.6"
  }
 },
 "nbformat": 4,
 "nbformat_minor": 5
}
